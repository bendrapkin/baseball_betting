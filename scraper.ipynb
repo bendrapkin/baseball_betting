{
 "cells": [
  {
   "cell_type": "code",
   "execution_count": 1,
   "metadata": {
    "collapsed": true
   },
   "outputs": [],
   "source": [
    "from lxml import html\n",
    "import requests\n",
    "import time\n",
    "import re\n",
    "import cssselect"
   ]
  },
  {
   "cell_type": "code",
   "execution_count": 2,
   "metadata": {
    "collapsed": true
   },
   "outputs": [],
   "source": [
    "prob_url = \"https://www.fangraphs.com/livescoreboard.aspx?date={date}\".format(date = time.strftime(\"%Y-%m-%d\"))\n",
    "prob_page = requests.get(prob_url)\n",
    "prob_tree = html.fromstring(prob_page.content)"
   ]
  },
  {
   "cell_type": "code",
   "execution_count": 3,
   "metadata": {
    "collapsed": true
   },
   "outputs": [],
   "source": [
    "prob_teams = []\n",
    "for a in prob_tree.xpath('//tr//td//a[contains(@href, \"winss.aspx\")]'):\n",
    "    prob_teams.append(re.search(r\"team=([a-zA-Z ]*)&\", str([a.attrib['href']])).group(1).lower())\n",
    "prob_odds = prob_tree.xpath('//center/table//tr/td[@align=\"center\"]/text()')"
   ]
  },
  {
   "cell_type": "code",
   "execution_count": 4,
   "metadata": {},
   "outputs": [
    {
     "name": "stdout",
     "output_type": "stream",
     "text": [
      "{'orioles': 50.3, 'white sox': 49.7, 'diamondbacks': 52.6, 'brewers': 47.4, 'tigers': 38.9, 'twins': 61.1, 'padres': 34.3, 'nationals': 65.7, 'yankees': 65.3, 'rangers': 34.7, 'marlins': 40.0, 'mets': 60.0, 'braves': 45.9, 'phillies': 54.1, 'royals': 36.1, 'cardinals': 63.9, 'rockies': 38.3, 'dodgers': 61.7}\n"
     ]
    }
   ],
   "source": [
    "probs_dict = {}\n",
    "i=0\n",
    "while i < len(prob_odds):\n",
    "    probs_dict[prob_teams[i]]=float(prob_odds[i][:4])\n",
    "    i+=1\n",
    "print(probs_dict)"
   ]
  },
  {
   "cell_type": "code",
   "execution_count": 5,
   "metadata": {
    "collapsed": true
   },
   "outputs": [],
   "source": [
    "betting_page = requests.get('http://www.vegasinsider.com/mlb/odds/las-vegas/')\n",
    "betting_tree = html.fromstring(betting_page.content)\n",
    "bet_teams = []\n",
    "for a in betting_tree.xpath('//td[@class=\"viBodyBorderNorm\"]//td//b/a[contains(@href, \"/team/\")]'):\n",
    "    bet_teams.append(re.search(r\"team\\/([a-zA-Z -]+)\", str([a.attrib['href']])).group(1).lower().replace('-', ' '))\n",
    "bet_odds = betting_tree.xpath('//td[@class=\"viBodyBorderNorm\"]//td[3]//a[contains(@href, \"/line-movement/\")]/text()')"
   ]
  },
  {
   "cell_type": "code",
   "execution_count": 6,
   "metadata": {},
   "outputs": [
    {
     "name": "stdout",
     "output_type": "stream",
     "text": [
      "{'padres': '+165', 'nationals': '-180\\n\\t\\t\\t\\t\\t\\t\\t', 'braves': '-101', 'phillies': '-109\\n\\t\\t\\t\\t\\t\\t\\t', 'marlins': '+120', 'mets': '-130\\n\\t\\t\\t\\t\\t\\t\\t', 'diamondbacks': '-115', 'brewers': '+105\\n\\t\\t\\t\\t\\t\\t\\t', 'rockies': '+160', 'dodgers': '-180\\n\\t\\t\\t\\t\\t\\t\\t', 'yankees': '-205', 'rangers': '+185\\n\\t\\t\\t\\t\\t\\t\\t', 'orioles': '-105', 'white sox': '-105\\n\\t\\t\\t\\t\\t\\t\\t', 'tigers': '+185', 'twins': '-205\\n\\t\\t\\t\\t\\t\\t\\t', 'royals': '+180', 'cardinals': '-200\\n\\t\\t\\t\\t\\t\\t\\t'}\n"
     ]
    }
   ],
   "source": [
    "total_odds = {}\n",
    "i=0\n",
    "j=0\n",
    "while i < len(bet_teams):\n",
    "    if i%3:\n",
    "        if bet_teams[j] not in total_odds.keys():\n",
    "            total_odds[bet_teams[j]]=bet_odds[i]\n",
    "            j+=1\n",
    "    i+=1"
   ]
  },
  {
   "cell_type": "code",
   "execution_count": 40,
   "metadata": {
    "collapsed": true
   },
   "outputs": [],
   "source": [
    "class Game:\n",
    "    \"A class holding opponents, odds, probabilities, and any other stat concerning the two teams playing a certain game\"\n",
    "    def __init__(self, team1, team2, team1odds, team2odds, team1winpct, team2winpct):\n",
    "        self.team1 = team1\n",
    "        self.team2 = team2\n",
    "        self.team1odds = team1odds\n",
    "        self.team2odds = team2odds\n",
    "        self.team1winpct = team1winpct\n",
    "        self.team2winpct = team2winpct\n",
    "    \n",
    "    def risk_team1(self):\n",
    "        if float(self.team1odds) > 0:\n",
    "            win_total = self.team1winpct/100*(self.team1odds/100 +1) -1\n",
    "        else:\n",
    "            win_total = self.team1winpct*(1/100 - 1/self.team1odds) - 1\n",
    "        return win_total\n",
    "    \n",
    "    def risk_team2(self):\n",
    "        if float(self.team1odds) > 0:\n",
    "            win_total = self.team2winpct/100*(self.team2odds/100 +1) -1\n",
    "        else:\n",
    "            win_total = self.team2winpct*(1/100 - 1/self.team2odds) - 1\n",
    "        return win_total\n",
    "\n",
    "            "
   ]
  },
  {
   "cell_type": "code",
   "execution_count": 41,
   "metadata": {},
   "outputs": [
    {
     "name": "stdout",
     "output_type": "stream",
     "text": [
      "{'game_1.0': <__main__.Game object at 0x110c8bda0>, 'game_2.0': <__main__.Game object at 0x110c8bd68>, 'game_3.0': <__main__.Game object at 0x110c8bd30>, 'game_4.0': <__main__.Game object at 0x110c8bcf8>, 'game_5.0': <__main__.Game object at 0x110c8bcc0>, 'game_6.0': <__main__.Game object at 0x110c8bc88>, 'game_7.0': <__main__.Game object at 0x110c8bc50>, 'game_8.0': <__main__.Game object at 0x110c8bc18>, 'game_9.0': <__main__.Game object at 0x110c8bbe0>}\n"
     ]
    }
   ],
   "source": [
    "i=0\n",
    "games={}\n",
    "while i < len(prob_odds):\n",
    "    key = 'game_'+str(i/2 + 1)\n",
    "    games[key]=Game(prob_teams[i], \n",
    "                    prob_teams[i+1], \n",
    "                    int(total_odds[prob_teams[i]]), \n",
    "                    int(total_odds[prob_teams[i+1]]), \n",
    "                    float(prob_odds[i][:4]), \n",
    "                    float(prob_odds[i+1][:4]))\n",
    "    i+=2\n",
    "print(games)"
   ]
  },
  {
   "cell_type": "code",
   "execution_count": 42,
   "metadata": {},
   "outputs": [
    {
     "name": "stdout",
     "output_type": "stream",
     "text": [
      "orioles -105 50.3 -0.01795238095238083\n"
     ]
    }
   ],
   "source": [
    "print(games['game_1.0'].team1, games['game_1.0'].team1odds, games['game_1.0'].team1winpct, games['game_1.0'].risk_team1())"
   ]
  },
  {
   "cell_type": "code",
   "execution_count": 43,
   "metadata": {},
   "outputs": [
    {
     "name": "stdout",
     "output_type": "stream",
     "text": [
      "white sox -105 49.7 -0.029666666666666508\n"
     ]
    }
   ],
   "source": [
    "print(games['game_1.0'].team2, games['game_1.0'].team2odds, games['game_1.0'].team2winpct, games['game_1.0'].risk_team2())"
   ]
  },
  {
   "cell_type": "code",
   "execution_count": 46,
   "metadata": {},
   "outputs": [
    {
     "name": "stdout",
     "output_type": "stream",
     "text": [
      "orioles -0.01795238095238083 white sox -0.029666666666666508\n",
      "diamondbacks -0.01660869565217382 brewers -0.9774285714285714\n",
      "tigers 0.10865000000000014 twins -1.6415499999999998\n",
      "padres -0.09105000000000008 nationals -1.5256\n",
      "yankees -0.028463414634146478 rangers -0.8405675675675676\n",
      "marlins -0.11999999999999988 mets -1.18\n",
      "braves -0.08654455445544551 phillies 0.037330275229358056\n",
      "royals 0.01079999999999992 cardinals -1.639\n",
      "rockies -0.0042000000000000925 dodgers -1.4936\n"
     ]
    }
   ],
   "source": [
    "for key in games:\n",
    "    print(games[key].team1, games[key].risk_team1(), games[key].team2, games[key].risk_team2())"
   ]
  },
  {
   "cell_type": "code",
   "execution_count": null,
   "metadata": {
    "collapsed": true
   },
   "outputs": [],
   "source": []
  }
 ],
 "metadata": {
  "kernelspec": {
   "display_name": "Python 3",
   "language": "python",
   "name": "python3"
  },
  "language_info": {
   "codemirror_mode": {
    "name": "ipython",
    "version": 3
   },
   "file_extension": ".py",
   "mimetype": "text/x-python",
   "name": "python",
   "nbconvert_exporter": "python",
   "pygments_lexer": "ipython3",
   "version": "3.6.1"
  }
 },
 "nbformat": 4,
 "nbformat_minor": 2
}
