{
 "cells": [
  {
   "cell_type": "code",
   "execution_count": 1,
   "metadata": {
    "collapsed": true
   },
   "outputs": [],
   "source": [
    "from lxml import html\n",
    "import requests\n",
    "import time\n",
    "import re\n",
    "import cssselect"
   ]
  },
  {
   "cell_type": "code",
   "execution_count": 2,
   "metadata": {},
   "outputs": [],
   "source": [
    "prob_url = \"https://www.fangraphs.com/livescoreboard.aspx?date={date}\".format(date = time.strftime(\"%Y-%m-%d\"))\n",
    "prob_page = requests.get(prob_url)\n",
    "prob_tree = html.fromstring(prob_page.content)"
   ]
  },
  {
   "cell_type": "code",
   "execution_count": 3,
   "metadata": {},
   "outputs": [],
   "source": [
    "prob_teams = []\n",
    "for a in prob_tree.xpath('//tr//td//a[contains(@href, \"winss.aspx\")]'):\n",
    "    prob_teams.append(re.search(r\"team=([a-zA-Z ]*)&\", str([a.attrib['href']])).group(1).lower())\n",
    "prob_odds = prob_tree.xpath('//center/table//tr/td[@align=\"center\"]/text()')"
   ]
  },
  {
   "cell_type": "code",
   "execution_count": 5,
   "metadata": {},
   "outputs": [
    {
     "name": "stdout",
     "output_type": "stream",
     "text": [
      "{'orioles': '50.3 %', 'white sox': '49.7 %', 'diamondbacks': '52.6 %', 'brewers': '47.4 %', 'tigers': '38.9 %', 'twins': '61.1 %', 'padres': '34.3 %', 'nationals': '65.7 %', 'yankees': '65.3 %', 'rangers': '34.7 %', 'marlins': '36.9 %', 'mets': '63.1 %', 'braves': '45.9 %', 'phillies': '54.1 %', 'royals': '36.1 %', 'cardinals': '63.9 %', 'rockies': '38.3 %', 'dodgers': '61.7 %'}\n"
     ]
    }
   ],
   "source": [
    "probs_dict = {}\n",
    "i=0\n",
    "while i < len(prob_odds):\n",
    "    probs_dict[prob_teams[i]]=prob_odds[i]\n",
    "    i+=1\n",
    "print(probs_dict)"
   ]
  },
  {
   "cell_type": "code",
   "execution_count": 6,
   "metadata": {},
   "outputs": [],
   "source": [
    "betting_page = requests.get('http://www.vegasinsider.com/mlb/odds/las-vegas/')\n",
    "betting_tree = html.fromstring(betting_page.content)\n",
    "bet_teams = []\n",
    "for a in betting_tree.xpath('//td[@class=\"viBodyBorderNorm\"]//td//b/a[contains(@href, \"/team/\")]'):\n",
    "    bet_teams.append(re.search(r\"team\\/([a-zA-Z -]+)\", str([a.attrib['href']])).group(1).lower().replace('-', ' '))\n",
    "bet_odds = betting_tree.xpath('//td[@class=\"viBodyBorderNorm\"]//td[3]//a[contains(@href, \"/line-movement/\")]/text()')"
   ]
  },
  {
   "cell_type": "code",
   "execution_count": 7,
   "metadata": {},
   "outputs": [
    {
     "name": "stdout",
     "output_type": "stream",
     "text": [
      "{'padres': '+165', 'nationals': '-180', 'braves': '-101', 'phillies': '-109', 'marlins': '+120', 'mets': '-130', 'diamondbacks': '-115', 'brewers': '+105', 'rockies': '+160', 'dodgers': '-180', 'yankees': '-205', 'rangers': '+185', 'orioles': '-105', 'white sox': '-105', 'tigers': '+185', 'twins': '-210', 'royals': '+180', 'cardinals': '-200'}\n"
     ]
    }
   ],
   "source": [
    "total_odds = {}\n",
    "i=0\n",
    "j=0\n",
    "while i < len(bet_teams):\n",
    "    if i%3:\n",
    "        if bet_teams[j] not in total_odds.keys():\n",
    "            total_odds[bet_teams[j]]=bet_odds[i][:4]\n",
    "            j+=1\n",
    "    i+=1\n",
    "print(total_odds)"
   ]
  },
  {
   "cell_type": "code",
   "execution_count": 21,
   "metadata": {
    "collapsed": true
   },
   "outputs": [],
   "source": [
    "class Game:\n",
    "    \"A class holding opponents, odds, probabilities, and any other stat concerning the two teams playing a certain game\"\n",
    "    def __init__(self, team1, team2, team1odds, team2odds, team1winpct, team2winpct):\n",
    "        self.team1 = team1\n",
    "        self.team2 = team2\n",
    "        self.team1odds = team1odds\n",
    "        self.team2odds = team2odds\n",
    "        self.team1winpct = team1winpct\n",
    "        self.team2winpct = team2winpct"
   ]
  },
  {
   "cell_type": "code",
   "execution_count": 22,
   "metadata": {},
   "outputs": [
    {
     "name": "stdout",
     "output_type": "stream",
     "text": [
      "{'game_1.0': <__main__.Game object at 0x111139550>, 'game_2.0': <__main__.Game object at 0x111139588>, 'game_3.0': <__main__.Game object at 0x1111395c0>, 'game_4.0': <__main__.Game object at 0x1111395f8>, 'game_5.0': <__main__.Game object at 0x111139630>, 'game_6.0': <__main__.Game object at 0x111139668>, 'game_7.0': <__main__.Game object at 0x1111396a0>, 'game_8.0': <__main__.Game object at 0x1111396d8>, 'game_9.0': <__main__.Game object at 0x111139710>}\n"
     ]
    }
   ],
   "source": [
    "i=0\n",
    "games={}\n",
    "while i < len(prob_odds):\n",
    "    key = 'game_'+str(i/2 + 1)\n",
    "    games[key]=Game(prob_teams[i], prob_teams[i+1], total_odds[prob_teams[i]], total_odds[prob_teams[i+1]], \n",
    "                    prob_odds[i], prob_odds[i+1])\n",
    "    i+=2\n",
    "print(games)"
   ]
  },
  {
   "cell_type": "code",
   "execution_count": 26,
   "metadata": {},
   "outputs": [
    {
     "data": {
      "text/plain": [
       "'50.3 %'"
      ]
     },
     "execution_count": 26,
     "metadata": {},
     "output_type": "execute_result"
    }
   ],
   "source": [
    "games['game_1.0'].team1winpct"
   ]
  },
  {
   "cell_type": "code",
   "execution_count": null,
   "metadata": {
    "collapsed": true
   },
   "outputs": [],
   "source": []
  }
 ],
 "metadata": {
  "kernelspec": {
   "display_name": "Python 3",
   "language": "python",
   "name": "python3"
  },
  "language_info": {
   "codemirror_mode": {
    "name": "ipython",
    "version": 3
   },
   "file_extension": ".py",
   "mimetype": "text/x-python",
   "name": "python",
   "nbconvert_exporter": "python",
   "pygments_lexer": "ipython3",
   "version": "3.6.1"
  }
 },
 "nbformat": 4,
 "nbformat_minor": 2
}
