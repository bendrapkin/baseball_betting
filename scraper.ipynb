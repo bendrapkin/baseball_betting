{
 "cells": [
  {
   "cell_type": "code",
   "execution_count": 3,
   "metadata": {
    "collapsed": true
   },
   "outputs": [],
   "source": [
    "from lxml import html\n",
    "import requests\n",
    "import time\n",
    "import re\n",
    "import cssselect"
   ]
  },
  {
   "cell_type": "code",
   "execution_count": 4,
   "metadata": {
    "collapsed": true
   },
   "outputs": [],
   "source": [
    "prob_url = \"https://www.fangraphs.com/livescoreboard.aspx?date={date}\".format(date = time.strftime(\"%Y-%m-%d\"))\n",
    "prob_page = requests.get(prob_url)\n",
    "prob_tree = html.fromstring(prob_page.content)"
   ]
  },
  {
   "cell_type": "code",
   "execution_count": 5,
   "metadata": {
    "collapsed": true
   },
   "outputs": [],
   "source": [
    "prob_teams = []\n",
    "for a in prob_tree.xpath('//tr//td//a[contains(@href, \"winss.aspx\")]'):\n",
    "    prob_teams.append(re.search(r\"team=([a-zA-Z ]*)&\", str([a.attrib['href']])).group(1).lower())\n",
    "prob_odds = prob_tree.xpath('//center/table//tr/td[@align=\"center\"]/text()')"
   ]
  },
  {
   "cell_type": "code",
   "execution_count": 6,
   "metadata": {},
   "outputs": [
    {
     "name": "stdout",
     "output_type": "stream",
     "text": [
      "{'red sox': 65.5, 'rays': 34.5, 'pirates': 54.7, 'reds': 45.3, 'angels': 47.0, 'blue jays': 53.0, 'braves': 46.4, 'phillies': 53.6, 'giants': 31.0, 'astros': 69.0, 'marlins': 41.8, 'mets': 58.2, 'orioles': 54.6, 'white sox': 45.4, 'padres': 36.7, 'nationals': 63.3, 'yankees': 54.3, 'rangers': 45.7, 'indians': 49.0, 'cubs': 51.0, 'tigers': 37.6, 'twins': 62.4, 'diamondbacks': 39.0, 'brewers': 61.0, 'mariners': 45.2, 'athletics': 54.8, 'royals': 33.7, 'cardinals': 66.3, 'rockies': 42.7, 'dodgers': 57.3}\n"
     ]
    }
   ],
   "source": [
    "probs_dict = {}\n",
    "i=0\n",
    "while i < len(prob_odds):\n",
    "    probs_dict[prob_teams[i]]=float(prob_odds[i][:4])\n",
    "    i+=1\n",
    "print(probs_dict)"
   ]
  },
  {
   "cell_type": "code",
   "execution_count": 7,
   "metadata": {
    "collapsed": true
   },
   "outputs": [],
   "source": [
    "betting_page = requests.get('http://www.vegasinsider.com/mlb/odds/las-vegas/')\n",
    "betting_tree = html.fromstring(betting_page.content)\n",
    "bet_teams = []\n",
    "for a in betting_tree.xpath('//td[@class=\"viBodyBorderNorm\"]//td//b/a[contains(@href, \"/team/\")]'):\n",
    "    bet_teams.append(re.search(r\"team\\/([a-zA-Z -]+)\", str([a.attrib['href']])).group(1).lower().replace('-', ' '))\n",
    "bet_odds = betting_tree.xpath('//td[@class=\"viBodyBorderNorm\"]//td[3]//a[contains(@href, \"/line-movement/\")]/text()')"
   ]
  },
  {
   "cell_type": "code",
   "execution_count": 8,
   "metadata": {},
   "outputs": [],
   "source": [
    "total_odds = {}\n",
    "i=0\n",
    "j=0\n",
    "while i < len(bet_teams):\n",
    "    if i%3:\n",
    "        if bet_teams[j] not in total_odds.keys():\n",
    "            total_odds[bet_teams[j]]=bet_odds[i]\n",
    "            j+=1\n",
    "    i+=1"
   ]
  },
  {
   "cell_type": "code",
   "execution_count": 34,
   "metadata": {
    "collapsed": true
   },
   "outputs": [],
   "source": [
    "class Game:\n",
    "    \"A class holding opponents, odds, probabilities, and any other stat concerning the two teams playing a certain game\"\n",
    "    def __init__(self, team1, team2, team1odds, team2odds, team1winpct, team2winpct):\n",
    "        self.team1 = team1\n",
    "        self.team2 = team2\n",
    "        self.team1odds = team1odds\n",
    "        self.team2odds = team2odds\n",
    "        self.team1winpct = team1winpct\n",
    "        self.team2winpct = team2winpct\n",
    "    \n",
    "    def risk_team1(self):\n",
    "        if float(self.team1odds) > 0:\n",
    "            win_return =  (self.team1winpct)/100 * self.team1odds/100 \n",
    "            loss_return = 1 - self.team1winpct/100\n",
    "            win_total = win_return - loss_return \n",
    "        else:\n",
    "            win_return =  -self.team1winpct/self.team1odds \n",
    "            loss_return = 1 - self.team1winpct/100\n",
    "            win_total = win_return - loss_return \n",
    "        return win_total +1\n",
    "    \n",
    "    def risk_team2(self):\n",
    "        if float(self.team2odds) > 0:\n",
    "            win_return =  (self.team2winpct)/100 * self.team2odds/100 \n",
    "            loss_return = 1 - self.team2winpct/100\n",
    "            win_total = win_return - loss_return \n",
    "        else:\n",
    "            win_return =  -self.team2winpct/self.team2odds \n",
    "            loss_return = 1 - self.team2winpct/100\n",
    "            win_total = win_return - loss_return \n",
    "        return win_total +1\n",
    "\n",
    "            "
   ]
  },
  {
   "cell_type": "code",
   "execution_count": 35,
   "metadata": {},
   "outputs": [
    {
     "name": "stdout",
     "output_type": "stream",
     "text": [
      "{'game_1': <__main__.Game object at 0x10ebbd978>, 'game_2': <__main__.Game object at 0x10ebbd9e8>, 'game_3': <__main__.Game object at 0x10ebbda58>, 'game_4': <__main__.Game object at 0x10ebbdac8>, 'game_6': <__main__.Game object at 0x10ebbdb70>, 'game_7': <__main__.Game object at 0x10ebbdb38>, 'game_8': <__main__.Game object at 0x10ebbdc18>, 'game_9': <__main__.Game object at 0x10ebbdc88>, 'game_12': <__main__.Game object at 0x10ebbdd68>, 'game_15': <__main__.Game object at 0x10ebbddd8>}\n"
     ]
    }
   ],
   "source": [
    "i=0\n",
    "games={}\n",
    "while i < len(prob_odds):\n",
    "    key = 'game_'+str(int(i/2 + 1))\n",
    "    if (prob_teams[i] in total_odds.keys()) and(prob_teams[i+1] in total_odds.keys()): \n",
    "        games[key]=Game(prob_teams[i], \n",
    "                        prob_teams[i+1], \n",
    "                        float(total_odds[prob_teams[i]]), \n",
    "                        float(total_odds[prob_teams[i+1]]), \n",
    "                        float(prob_odds[i][:4]), \n",
    "                        float(prob_odds[i+1][:4]))\n",
    "    i+=2\n",
    "print(games)"
   ]
  },
  {
   "cell_type": "code",
   "execution_count": 36,
   "metadata": {},
   "outputs": [
    {
     "name": "stdout",
     "output_type": "stream",
     "text": [
      "red sox 0.9527272727272728 rays 1.0005\n",
      "pirates 0.9677692307692308 reds 0.9965999999999999\n",
      "angels 0.9011926605504588 blue jays 1.0547524752475248\n",
      "braves 0.9372799999999999 phillies 1.0145714285714287\n",
      "marlins 0.8443599999999999 mets 1.1016428571428571\n",
      "orioles 0.9828000000000001 white sox 0.9760999999999999\n",
      "padres 0.9909000000000001 nationals 0.9661578947368421\n",
      "yankees 0.8823749999999999 rangers 1.11965\n",
      "diamondbacks 0.9165 brewers 1.0306896551724138\n",
      "rockies 0.9821000000000001 dodgers 0.9822857142857142\n"
     ]
    }
   ],
   "source": [
    "for key in games:\n",
    "    print(games[key].team1, games[key].risk_team1(), games[key].team2, games[key].risk_team2())"
   ]
  },
  {
   "cell_type": "code",
   "execution_count": 33,
   "metadata": {},
   "outputs": [
    {
     "name": "stdout",
     "output_type": "stream",
     "text": [
      "-190.0\n"
     ]
    }
   ],
   "source": [
    "print(games['game_8'].team2odds)"
   ]
  },
  {
   "cell_type": "code",
   "execution_count": null,
   "metadata": {
    "collapsed": true
   },
   "outputs": [],
   "source": []
  }
 ],
 "metadata": {
  "kernelspec": {
   "display_name": "Python 3",
   "language": "python",
   "name": "python3"
  },
  "language_info": {
   "codemirror_mode": {
    "name": "ipython",
    "version": 3
   },
   "file_extension": ".py",
   "mimetype": "text/x-python",
   "name": "python",
   "nbconvert_exporter": "python",
   "pygments_lexer": "ipython3",
   "version": "3.6.1"
  }
 },
 "nbformat": 4,
 "nbformat_minor": 2
}
